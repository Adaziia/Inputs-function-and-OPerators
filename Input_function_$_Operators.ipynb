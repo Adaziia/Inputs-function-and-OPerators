{
  "nbformat": 4,
  "nbformat_minor": 0,
  "metadata": {
    "colab": {
      "provenance": [],
      "toc_visible": true
    },
    "kernelspec": {
      "name": "python3",
      "display_name": "Python 3"
    },
    "language_info": {
      "name": "python"
    }
  },
  "cells": [
    {
      "cell_type": "markdown",
      "source": [
        "Input function"
      ],
      "metadata": {
        "id": "PfPmy8eAQGIH"
      }
    },
    {
      "cell_type": "code",
      "source": [
        "a=10"
      ],
      "metadata": {
        "id": "b_dIyL2iQI7W"
      },
      "execution_count": null,
      "outputs": []
    },
    {
      "cell_type": "markdown",
      "source": [
        "In input function the datatypes will always be string in nature.\n"
      ],
      "metadata": {
        "id": "5UIdMr9nQPnX"
      }
    },
    {
      "cell_type": "code",
      "source": [
        "b=input('Enter your name ')"
      ],
      "metadata": {
        "colab": {
          "base_uri": "https://localhost:8080/"
        },
        "id": "Celsfy2sQMbT",
        "outputId": "d592c031-0bbd-4ca7-b289-6d560bffbaf8"
      },
      "execution_count": null,
      "outputs": [
        {
          "name": "stdout",
          "output_type": "stream",
          "text": [
            "Enter your name  Adaziia\n"
          ]
        }
      ]
    },
    {
      "cell_type": "code",
      "source": [
        "print(b)"
      ],
      "metadata": {
        "colab": {
          "base_uri": "https://localhost:8080/"
        },
        "id": "Q0QyO_dTQ0iR",
        "outputId": "6e8ff595-d780-43af-bb16-374b5770a70a"
      },
      "execution_count": null,
      "outputs": [
        {
          "output_type": "stream",
          "name": "stdout",
          "text": [
            " Adaziia\n"
          ]
        }
      ]
    },
    {
      "cell_type": "markdown",
      "source": [
        "We will use typecasting to restrict on top of the input function()\n",
        "- int: is to use the interger numbers\n",
        "- float- is to use the decimal numbers\n",
        "- char- is to use the character( in alphabet manners)"
      ],
      "metadata": {
        "id": "zTtlldPPSjSh"
      }
    },
    {
      "cell_type": "code",
      "source": [
        "a=int(input('Enter your Roll no. ')) #This input will support only the interger numbers"
      ],
      "metadata": {
        "colab": {
          "base_uri": "https://localhost:8080/"
        },
        "id": "Y9h3Gm9lRedQ",
        "outputId": "5e73bd41-e20a-48f7-f326-d83df5beefa6"
      },
      "execution_count": null,
      "outputs": [
        {
          "name": "stdout",
          "output_type": "stream",
          "text": [
            "Enter your Roll no. 23\n"
          ]
        }
      ]
    },
    {
      "cell_type": "code",
      "source": [
        "b=float(input('Enter your percentage ')) #This input will support both the numbers and decimal numbers but with modification."
      ],
      "metadata": {
        "colab": {
          "base_uri": "https://localhost:8080/"
        },
        "id": "nuFk87KRUWxb",
        "outputId": "98870b3d-5d3b-4b8e-9503-5b695d779482"
      },
      "execution_count": null,
      "outputs": [
        {
          "name": "stdout",
          "output_type": "stream",
          "text": [
            "Enter your percentage 45\n"
          ]
        }
      ]
    },
    {
      "cell_type": "code",
      "source": [
        "print(b)"
      ],
      "metadata": {
        "colab": {
          "base_uri": "https://localhost:8080/"
        },
        "id": "uJ2wzi_dUrRl",
        "outputId": "bf9952eb-cc18-4ba1-90b9-071fd173500f"
      },
      "execution_count": null,
      "outputs": [
        {
          "output_type": "stream",
          "name": "stdout",
          "text": [
            "45.0\n"
          ]
        }
      ]
    },
    {
      "cell_type": "markdown",
      "source": [
        "OPERATORS:\n",
        "- Arithmatic: +, -,* (to multiply),** (base on power), / (single forward slash is in float division), // (double forward slash is in interger division)"
      ],
      "metadata": {
        "id": "-F-ZZ6zwU4X6"
      }
    },
    {
      "cell_type": "code",
      "source": [
        "a=10"
      ],
      "metadata": {
        "id": "dnVkxmMbW044"
      },
      "execution_count": null,
      "outputs": []
    },
    {
      "cell_type": "code",
      "source": [
        "b=60"
      ],
      "metadata": {
        "id": "sPjTNMVfW6l5"
      },
      "execution_count": null,
      "outputs": []
    },
    {
      "cell_type": "code",
      "source": [
        "print(a+b)"
      ],
      "metadata": {
        "colab": {
          "base_uri": "https://localhost:8080/"
        },
        "id": "6EN8gEmnW_E0",
        "outputId": "dc78f5c7-c602-4827-af45-c47b23cb338d"
      },
      "execution_count": null,
      "outputs": [
        {
          "output_type": "stream",
          "name": "stdout",
          "text": [
            "70\n"
          ]
        }
      ]
    },
    {
      "cell_type": "code",
      "source": [
        "print(a-b)"
      ],
      "metadata": {
        "colab": {
          "base_uri": "https://localhost:8080/"
        },
        "id": "JFi7Ji53XK39",
        "outputId": "4979e294-105b-4a78-a532-151c2a8d8807"
      },
      "execution_count": null,
      "outputs": [
        {
          "output_type": "stream",
          "name": "stdout",
          "text": [
            "-50\n"
          ]
        }
      ]
    },
    {
      "cell_type": "code",
      "source": [
        "print(a*b)"
      ],
      "metadata": {
        "colab": {
          "base_uri": "https://localhost:8080/"
        },
        "id": "a9TcFRrjXOaW",
        "outputId": "72ee35ef-1964-48e4-dcc6-a652cce2e454"
      },
      "execution_count": null,
      "outputs": [
        {
          "output_type": "stream",
          "name": "stdout",
          "text": [
            "600\n"
          ]
        }
      ]
    },
    {
      "cell_type": "code",
      "source": [
        "print(a**b)"
      ],
      "metadata": {
        "colab": {
          "base_uri": "https://localhost:8080/"
        },
        "id": "_AB2BcawXd8Q",
        "outputId": "0a45ef23-69b0-46d0-83a7-31b48d676cbb"
      },
      "execution_count": null,
      "outputs": [
        {
          "output_type": "stream",
          "name": "stdout",
          "text": [
            "1000000000000000000000000000000000000000000000000000000000000\n"
          ]
        }
      ]
    },
    {
      "cell_type": "code",
      "source": [
        "print(a/b)"
      ],
      "metadata": {
        "colab": {
          "base_uri": "https://localhost:8080/"
        },
        "id": "WT3_GMCxXORs",
        "outputId": "99f9b2ef-ca29-46c7-8913-7fbedfc0559f"
      },
      "execution_count": null,
      "outputs": [
        {
          "output_type": "stream",
          "name": "stdout",
          "text": [
            "0.16666666666666666\n"
          ]
        }
      ]
    },
    {
      "cell_type": "code",
      "source": [
        "print(a//b)"
      ],
      "metadata": {
        "colab": {
          "base_uri": "https://localhost:8080/"
        },
        "id": "e5zoLbnfXXU5",
        "outputId": "57d21ee4-3e88-4e8b-9897-8830dc454696"
      },
      "execution_count": null,
      "outputs": [
        {
          "output_type": "stream",
          "name": "stdout",
          "text": [
            "0\n"
          ]
        }
      ]
    },
    {
      "cell_type": "markdown",
      "source": [
        "Modulo function(%) percentage\n",
        "(a%b) will divided and the remained of the division option will display.(remainder)"
      ],
      "metadata": {
        "id": "BiE4ZaNocu3B"
      }
    },
    {
      "cell_type": "code",
      "source": [
        "a=60"
      ],
      "metadata": {
        "id": "gT8RloxidE5i"
      },
      "execution_count": null,
      "outputs": []
    },
    {
      "cell_type": "code",
      "source": [
        "b=40"
      ],
      "metadata": {
        "id": "F-jxulnLdDWo"
      },
      "execution_count": null,
      "outputs": []
    },
    {
      "cell_type": "code",
      "source": [
        "print(a%b)"
      ],
      "metadata": {
        "colab": {
          "base_uri": "https://localhost:8080/"
        },
        "id": "FNooZ_TNdJVl",
        "outputId": "f4a13df6-84e8-4a6a-fcff-94d323b96c9f"
      },
      "execution_count": null,
      "outputs": [
        {
          "output_type": "stream",
          "name": "stdout",
          "text": [
            "20\n"
          ]
        }
      ]
    },
    {
      "cell_type": "markdown",
      "source": [
        "Comparison operators: will compare the values\n",
        "!: not equal to\n",
        "\n"
      ],
      "metadata": {
        "id": "PHYszW7GdTiI"
      }
    },
    {
      "cell_type": "code",
      "source": [
        "print(a<b)\n",
        "print(a>b)\n",
        "print(a>=b)\n",
        "print(a<=b)\n",
        "print(a==b)\n",
        "print(a!=b)"
      ],
      "metadata": {
        "colab": {
          "base_uri": "https://localhost:8080/"
        },
        "id": "mNEtlwr0db8y",
        "outputId": "4b65aaab-df77-437a-ddc3-41dbe077cc6f"
      },
      "execution_count": null,
      "outputs": [
        {
          "output_type": "stream",
          "name": "stdout",
          "text": [
            "False\n",
            "True\n",
            "True\n",
            "False\n",
            "False\n",
            "True\n"
          ]
        }
      ]
    },
    {
      "cell_type": "markdown",
      "source": [
        "LOGICAL OPERATOR\n",
        "     AND                         OR                     NOT(opposite)\n",
        "     i/p1   i/p2  o/p       i/p1    i/p2    o/p       i/p     o/p\n",
        "     1       1     1         1       1       1         1        0\n",
        "     0       1     0         0       1       1         0        1\n",
        "     1       0     0         1       0       1\n",
        "     0       0     0         0       0       0"
      ],
      "metadata": {
        "id": "GxXV6LQag6Br"
      }
    },
    {
      "cell_type": "code",
      "source": [
        "print(True and True)\n",
        "print(True and False)\n",
        "print(False and True)\n",
        "print(False and False)"
      ],
      "metadata": {
        "colab": {
          "base_uri": "https://localhost:8080/"
        },
        "id": "J8AkjfRliaO9",
        "outputId": "010a0b8a-e282-4601-8169-c1b95ff963f3"
      },
      "execution_count": null,
      "outputs": [
        {
          "output_type": "stream",
          "name": "stdout",
          "text": [
            "True\n",
            "False\n",
            "False\n",
            "False\n"
          ]
        }
      ]
    },
    {
      "cell_type": "code",
      "source": [
        "print(True or True)\n",
        "print(True or False)\n",
        "print(False or True)\n",
        "print(False or False)"
      ],
      "metadata": {
        "colab": {
          "base_uri": "https://localhost:8080/"
        },
        "id": "CfIuLUsYi1AK",
        "outputId": "cfa470f2-0552-4154-9973-478e4bbe1993"
      },
      "execution_count": null,
      "outputs": [
        {
          "output_type": "stream",
          "name": "stdout",
          "text": [
            "True\n",
            "True\n",
            "True\n",
            "False\n"
          ]
        }
      ]
    },
    {
      "cell_type": "code",
      "source": [
        "print(not True)\n",
        "print(not False)"
      ],
      "metadata": {
        "id": "-_WBFQ7KjE9F",
        "outputId": "9c2b0eea-e153-417b-c881-5dd64235e968",
        "colab": {
          "base_uri": "https://localhost:8080/"
        }
      },
      "execution_count": null,
      "outputs": [
        {
          "output_type": "stream",
          "name": "stdout",
          "text": [
            "False\n",
            "True\n"
          ]
        }
      ]
    }
  ]
}